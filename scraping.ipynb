{
 "cells": [
  {
   "cell_type": "markdown",
   "id": "6f20719d-dd5c-4906-924b-50e998b8e36d",
   "metadata": {},
   "source": [
    "## Scraping the bookmakers\n",
    "\n",
    "I want to scrape American odds (moneylines) for college and pro football games from as many bookmakers as possible.\n",
    "\n",
    "Firefox:\n",
    "\n",
    "Step 1: Download Selenium\n",
    "\n",
    "Step 2: Download geckodriver (homebrew install geckodriver)"
   ]
  },
  {
   "cell_type": "code",
   "execution_count": 12,
   "id": "4421c741-4196-4531-8ed3-c31d6fbc3258",
   "metadata": {},
   "outputs": [],
   "source": [
    "from selenium import webdriver\n",
    "import pandas as pd\n",
    "from datetime import datetime\n",
    "import time"
   ]
  },
  {
   "cell_type": "code",
   "execution_count": 13,
   "id": "3b4ac031-daaa-46ab-ba50-2f9f4861808b",
   "metadata": {},
   "outputs": [],
   "source": [
    "def scrape_odds(url, xpaths):\n",
    "    \"\"\"\n",
    "    Args:\n",
    "        URL where odds are (str)\n",
    "        xpaths to teams and odds (list)\n",
    "    Returns:\n",
    "        Dictionary - keys: teams (list), values: odds (list)\n",
    "    \"\"\"\n",
    "    with webdriver.Firefox() as driver:\n",
    "        driver.get(url)\n",
    "        \n",
    "        #American odds & teams\n",
    "        teams_elems = driver.find_elements_by_xpath(xpaths[0])\n",
    "        mlines_elems = driver.find_elements_by_xpath(xpaths[1]) \n",
    "        \n",
    "        mlines, teams = [], []\n",
    "        for m, t in zip(mlines_elems, teams_elems):\n",
    "            mlines.append(m.text)\n",
    "            teams.append(t.text)\n",
    "        \n",
    "        driver.close()\n",
    "        \n",
    "    mline_df = pd.DataFrame.from_dict(dict(team=teams, moneyline=mlines))\n",
    "    mline_df['date'] = datetime.today().strftime(\"%m-%d-%y\")\n",
    "    print(mline_df)\n",
    "    \n",
    "    return mline_df"
   ]
  },
  {
   "cell_type": "code",
   "execution_count": 14,
   "id": "dd855d57-d427-41b3-a25a-b89a2d65682b",
   "metadata": {},
   "outputs": [],
   "source": [
    "def save_odds(url, xpaths, bookie, subdir=\"odds\"):\n",
    "    mline_df = scrape_odds(url, xpaths)\n",
    "    \n",
    "    try:\n",
    "        old_df = pd.read_csv(f\"{subdir}/{bookie}\", index_col=0)\n",
    "        pd.concat([old_df, mline_df]).to_csv(f\"{subdir}/{bookie}\")\n",
    "    except:\n",
    "        mline_df.to_csv(f\"{subdir}/{bookie}\")"
   ]
  },
  {
   "cell_type": "code",
   "execution_count": 15,
   "id": "fef2f9af-6b8a-4b59-b6b2-92b307bb172d",
   "metadata": {},
   "outputs": [
    {
     "name": "stdout",
     "output_type": "stream",
     "text": [
      "                 team moneyline      date\n",
      "0           BUF Bills      -290  10-18-21\n",
      "1          TEN Titans      +230  10-18-21\n",
      "2         DEN Broncos      +190  10-18-21\n",
      "3          CLE Browns      -235  10-18-21\n",
      "4   WAS Football Team      +350  10-18-21\n",
      "5          GB Packers      -475  10-18-21\n",
      "6             NY Jets      +230  10-18-21\n",
      "7         NE Patriots      -290  10-18-21\n",
      "8         CIN Bengals      +225  10-18-21\n",
      "9          BAL Ravens      -280  10-18-21\n",
      "10       CAR Panthers      -155  10-18-21\n",
      "11          NY Giants      +135  10-18-21\n",
      "12          KC Chiefs      -200  10-18-21\n",
      "13         TEN Titans      +170  10-18-21\n",
      "14        ATL Falcons      -105  10-18-21\n",
      "15       MIA Dolphins      -115  10-18-21\n",
      "16          DET Lions      +650  10-18-21\n",
      "17            LA Rams     -1000  10-18-21\n",
      "18         PHI Eagles      +140  10-18-21\n",
      "19         LV Raiders      -160  10-18-21\n",
      "20          CHI Bears      +460  10-18-21\n",
      "21      TB Buccaneers      -650  10-18-21\n",
      "22         HOU Texans      +750  10-18-21\n",
      "23      ARI Cardinals     -1250  10-18-21\n",
      "24          IND Colts      +165  10-18-21\n",
      "25           SF 49ers      -195  10-18-21\n",
      "26          NO Saints      -190  10-18-21\n",
      "27       SEA Seahawks      +160  10-18-21\n"
     ]
    }
   ],
   "source": [
    "bookie = \"DraftKings\"\n",
    "url = \"https://sportsbook.draftkings.com/leagues/football/88670561\"\n",
    "xpaths = [\"//div[@class='event-cell__name-text']\",\n",
    "          \"//span[@class='sportsbook-odds american no-margin default-color']\"]\n",
    "    \n",
    "save_odds(url, xpaths, bookie)"
   ]
  },
  {
   "cell_type": "code",
   "execution_count": 17,
   "id": "498d8239-9836-4500-9dff-1e071d490130",
   "metadata": {},
   "outputs": [],
   "source": [
    "bookie = \"BetMGM\"\n",
    "url = \"https://sports.va.betmgm.com/en/sports/football-11/betting/usa-9\"\n",
    "xpaths = [\"//div[@class='participant']\",\n",
    "          \"//div[@class='option option-value']\"]\n",
    "    \n",
    "#save_odds(url, xpaths, bookie)"
   ]
  },
  {
   "cell_type": "code",
   "execution_count": 18,
   "id": "ba58bc9b-0b7f-4dbe-84eb-8e91f1962f6a",
   "metadata": {},
   "outputs": [
    {
     "name": "stdout",
     "output_type": "stream",
     "text": [
      "[]\n",
      "[]\n"
     ]
    }
   ],
   "source": [
    "with webdriver.Firefox() as driver:\n",
    "        driver.get(url)\n",
    "        \n",
    "        #American odds & teams\n",
    "        teams_elems = driver.find_elements_by_xpath(xpaths[0])\n",
    "        mlines_elems = driver.find_elements_by_xpath(xpaths[1]) \n",
    "        \n",
    "        print(teams_elems)\n",
    "        print(mlines_elems)\n",
    "        \n",
    "        mlines, teams = [], []\n",
    "        for m, t in zip(mlines_elems, teams_elems):\n",
    "            mlines.append(m.text)\n",
    "            teams.append(t.text)\n",
    "        \n",
    "        driver.close()\n",
    "        "
   ]
  },
  {
   "cell_type": "code",
   "execution_count": 20,
   "id": "e0a50c8b-d9c5-406a-a671-bd757646c175",
   "metadata": {},
   "outputs": [
    {
     "data": {
      "text/plain": [
       "\"//div[@class='option option-value']\""
      ]
     },
     "execution_count": 20,
     "metadata": {},
     "output_type": "execute_result"
    }
   ],
   "source": [
    "xpaths[1]"
   ]
  },
  {
   "cell_type": "code",
   "execution_count": null,
   "id": "855a2b94-5a48-42db-b5bf-3f7bdaf7398b",
   "metadata": {},
   "outputs": [],
   "source": []
  }
 ],
 "metadata": {
  "kernelspec": {
   "display_name": "Python 3 (ipykernel)",
   "language": "python",
   "name": "python3"
  },
  "language_info": {
   "codemirror_mode": {
    "name": "ipython",
    "version": 3
   },
   "file_extension": ".py",
   "mimetype": "text/x-python",
   "name": "python",
   "nbconvert_exporter": "python",
   "pygments_lexer": "ipython3",
   "version": "3.8.10"
  }
 },
 "nbformat": 4,
 "nbformat_minor": 5
}
