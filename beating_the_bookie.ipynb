{
  "nbformat": 4,
  "nbformat_minor": 0,
  "metadata": {
    "kernelspec": {
      "language": "python",
      "display_name": "Python 3",
      "name": "python3"
    },
    "language_info": {
      "name": "python",
      "version": "3.7.10",
      "mimetype": "text/x-python",
      "codemirror_mode": {
        "name": "ipython",
        "version": 3
      },
      "pygments_lexer": "ipython3",
      "nbconvert_exporter": "python",
      "file_extension": ".py"
    },
    "colab": {
      "name": "beating-the-bookie.ipynb",
      "provenance": [],
      "collapsed_sections": []
    }
  },
  "cells": [
    {
      "cell_type": "markdown",
      "metadata": {
        "id": "xvicpeu4JzuS"
      },
      "source": [
        "# Online Sports Betting: Beating the Bookie\n",
        "\n",
        "#### Notebook created by Steven Newton (Github: https://github.com/konstanzer/online-sports-betting)\n",
        "---\n",
        "\n",
        "Kaunitz, Zhong & Kreiner, the authors of **Beating the bookies with their own numbers - and how the online sports betting market is rigged (2017)**, introduced me to a novel and brilliant approach to sports betting. Rather than compete with the bookmakers predictions,the authors show how to beat the bookmakers by using their predictions against them. They demonstrate how to take advantage of mispriced odds using the implicit information in bookmakers' aggregate odds. Bookmakers countered the authors success by limiting the size and type of bets they were allowed to place, leading to the second conclusion of the paper: any bettor who finds a consistently profitable strategy will encounteer discriminatory practices at the hands of betting exchanges.\n",
        "\n",
        "Paper: https://www.researchgate.net/publication/320296375_Beating_the_bookies_with_their_own_numbers_-_and_how_the_online_sports_betting_market_is_rigged\n",
        "\n",
        "Blog: https://www.lisandrokaunitz.com/index.php/en/category/beatthebookies-en/\n",
        "\n",
        "### Summary \n",
        "\n",
        "I set out to create a value betting algorithm for this project but the paper linked to above convinced me it would be a lesson in futility. Strategies based on team and player attributes are very unlikely to compete successfully with the models bookmakers' use when setting the odds. Aggregating many bookmakers' odds, however, can tell a bettor when an individual bookmaker is offering mispriced odds. Furthermore, a strategy that exploits these opportunities repeatedly can significantly outperform random betting in the long-term. In this notebook, I create such a model using soccer match data while following closely Kreiners's method closely.\n",
        "\n",
        "### Agenda\n",
        "\n",
        "1. [Data](#data)\n",
        "  - Data dictionary\n",
        "  - Data description\n",
        "2.  [Exploration](#explore)\n",
        "  - What are the odds?\n",
        "  - Evaluating the bookmakers' odds\n",
        "3.  [Building a Winning Strategy](#model)\n",
        "  - Mispriced odds model\n",
        "  - Random betting strategy\n",
        "4.  [Results](#results)\n",
        "  - Matrics\n",
        "  - Next steps"
      ]
    },
    {
      "cell_type": "code",
      "metadata": {
        "colab": {
          "base_uri": "https://localhost:8080/"
        },
        "id": "d_r0J-KHKhkd",
        "outputId": "7fc3006b-88df-45d8-d84f-01030a34a23c"
      },
      "source": [
        "from google.colab import drive\n",
        "drive.mount('/content/drive')"
      ],
      "execution_count": 1,
      "outputs": [
        {
          "output_type": "stream",
          "name": "stdout",
          "text": [
            "Mounted at /content/drive\n"
          ]
        }
      ]
    },
    {
      "cell_type": "code",
      "metadata": {
        "_uuid": "8f2839f25d086af736a60e9eeb907d3b93b6e0e5",
        "_cell_guid": "b1076dfc-b9ad-4769-8c92-a6c4dae69d19",
        "execution": {
          "iopub.status.busy": "2021-10-14T13:01:41.365891Z",
          "iopub.execute_input": "2021-10-14T13:01:41.366411Z",
          "iopub.status.idle": "2021-10-14T13:01:42.115309Z",
          "shell.execute_reply.started": "2021-10-14T13:01:41.366303Z",
          "shell.execute_reply": "2021-10-14T13:01:42.114491Z"
        },
        "trusted": true,
        "id": "zd74OJWuJzuf"
      },
      "source": [
        "import warnings\n",
        "warnings.filterwarnings(\"ignore\")\n",
        "\n",
        "import numpy as np\n",
        "import scipy.stats as scs\n",
        "import pandas as pd\n",
        "import matplotlib.pyplot as plt\n",
        "import seaborn as sns\n",
        "\n",
        "from sklearn.linear_model import LinearRegression\n",
        "\n",
        "plt.rcParams['figure.figsize'] = (10, 5)\n",
        "plt.style.use('fivethirtyeight')"
      ],
      "execution_count": 2,
      "outputs": []
    },
    {
      "cell_type": "markdown",
      "metadata": {
        "id": "F5GYISclwLHA"
      },
      "source": [
        "The prepared dataset in the form of csv files is available for download at https://www.kaggle.com/austro/beat-the-bookie-worldwide-football-dataset"
      ]
    },
    {
      "cell_type": "code",
      "metadata": {
        "execution": {
          "iopub.status.busy": "2021-10-14T13:01:45.889064Z",
          "iopub.execute_input": "2021-10-14T13:01:45.889527Z",
          "iopub.status.idle": "2021-10-14T13:01:48.660235Z",
          "shell.execute_reply.started": "2021-10-14T13:01:45.889486Z",
          "shell.execute_reply": "2021-10-14T13:01:48.659309Z"
        },
        "trusted": true,
        "id": "aO0AAcwcJzun"
      },
      "source": [
        "#Matches with odds data.\n",
        "PATH = '/content/drive/MyDrive/Colab Notebooks/data/'\n",
        "close = pd.read_csv(PATH + 'closing_odds.csv', index_col=0)"
      ],
      "execution_count": 135,
      "outputs": []
    },
    {
      "cell_type": "markdown",
      "metadata": {
        "id": "TIiwTBRbJzuq"
      },
      "source": [
        "<a name='data'></a>\n",
        "## 1. Data\n",
        "\n",
        "---\n",
        "\n",
        "### 1.1 Data dictionary\n",
        "\n",
        "| Feature       | Description    |\n",
        "|---------------|----------------|\n",
        "| 'league'      |  pro soccer league |\n",
        "| 'match_date'  |  match date        |\n",
        "| 'home_team'   |  home team         |\n",
        "| 'home_score'  |  home team goals scored    |\n",
        "| 'away_team'   |  away team                 |\n",
        "| 'away_score'  |  away team goals scored    |\n",
        "| 'avg_odds_home_win'   |  average odds for bet on home team win at game start      |\n",
        "| 'max_odds_home_win'   |  best odds for bet on home team win at game start |\n",
        "| 'top_bookie_home_win' | bookmaker offering max odds                 |\n",
        "| 'n_odds_home_win'     | number of bookmakers providing odds for bet |\n",
        "\n",
        "**Home win** data repeats for **away win** and **draw** (not shown), the other two possible outcomes of a soccer match.\n",
        "\n",
        "\n",
        "### 1.2 Dataset description\n",
        "\n",
        "Kaunitz, et al. collected historical closing odds (i.e. odds provided at game-time) for 479,440 soccer matches between 2005 and 2015 from 32 online bookmakers. The hard part of scraping the data off bookies' websites and cleaning it has been done for me.\n",
        "\n",
        "\"closing_odds.csv\". The csv file is a matrix of games (rows) x features (teams, scores, league, etc).\n"
      ]
    },
    {
      "cell_type": "markdown",
      "metadata": {
        "id": "YfgXE8nwoZ4J"
      },
      "source": [
        "A full list of the bookmakers\n",
        "\n",
        "---\n",
        "Interwetten https://www.interwetten.com/en/sportsbook, bwin https://sports.bwin.com/en/sports, bet-at-home https://www.bet-at-home.com/en/sport, Unibet https://www.bet-at-home.com/en/sport, Stan James http://stanjames-betting.com/, Expekt https://www.expekt.com/en-fi, 10Bet https://www.10bet.com/sports/, William Hill https://www.williamhill.com/, bet365 https://www.nj.bet365.com/#/HO/, Pinnacle Sports https://www.pinnacle.com/en/, DOXXbet https://m.doxxbet.com.lr/ui/#/, Betsafe https://www.betsafe.com/en, Betway https://betway.com/en/sports, 888sport https://www.888sport.com, Ladbrokes https://sports.ladbrokes.com/, Betclic https://www.betclic.com/en/sports-betting/, Sportingbet https://sports.sportingbet.com/en/sports, myBet , Betsson, 188BET, Jetbull, Paddy Power, Tipico, Coral, SBOBET, BetVictor, 12BET, Titanbet, Youwin, ComeOn, Betadonis, Betfair"
      ]
    },
    {
      "cell_type": "markdown",
      "metadata": {
        "id": "tVDxloF9nvmL"
      },
      "source": [
        "<a name='explore'></a>\n",
        "## 2. Exploration\n",
        "\n",
        "---\n",
        "\n",
        "### 2.1 What are the odds?"
      ]
    },
    {
      "cell_type": "code",
      "metadata": {
        "execution": {
          "iopub.status.busy": "2021-10-14T13:02:22.537209Z",
          "iopub.execute_input": "2021-10-14T13:02:22.537570Z",
          "iopub.status.idle": "2021-10-14T13:02:22.721688Z",
          "shell.execute_reply.started": "2021-10-14T13:02:22.537520Z",
          "shell.execute_reply": "2021-10-14T13:02:22.720582Z"
        },
        "trusted": true,
        "colab": {
          "base_uri": "https://localhost:8080/"
        },
        "id": "a2vafLz7Jzuu",
        "outputId": "a1586cc6-b234-4dc4-fe34-b6e2ca9e525f"
      },
      "source": [
        "close.info()"
      ],
      "execution_count": 4,
      "outputs": [
        {
          "output_type": "stream",
          "name": "stdout",
          "text": [
            "<class 'pandas.core.frame.DataFrame'>\n",
            "Int64Index: 479440 entries, 170088 to 876812\n",
            "Data columns (total 18 columns):\n",
            " #   Column               Non-Null Count   Dtype  \n",
            "---  ------               --------------   -----  \n",
            " 0   league               479440 non-null  object \n",
            " 1   match_date           479440 non-null  object \n",
            " 2   home_team            479440 non-null  object \n",
            " 3   home_score           479440 non-null  int64  \n",
            " 4   away_team            479440 non-null  object \n",
            " 5   away_score           479440 non-null  int64  \n",
            " 6   avg_odds_home_win    479440 non-null  float64\n",
            " 7   avg_odds_draw        479440 non-null  float64\n",
            " 8   avg_odds_away_win    479440 non-null  float64\n",
            " 9   max_odds_home_win    479440 non-null  float64\n",
            " 10  max_odds_draw        479440 non-null  float64\n",
            " 11  max_odds_away_win    479440 non-null  float64\n",
            " 12  top_bookie_home_win  479412 non-null  object \n",
            " 13  top_bookie_draw      479440 non-null  object \n",
            " 14  top_bookie_away_win  479416 non-null  object \n",
            " 15  n_odds_home_win      479440 non-null  int64  \n",
            " 16  n_odds_draw          479440 non-null  int64  \n",
            " 17  n_odds_away_win      479440 non-null  int64  \n",
            "dtypes: float64(6), int64(5), object(7)\n",
            "memory usage: 69.5+ MB\n"
          ]
        }
      ]
    },
    {
      "cell_type": "code",
      "metadata": {
        "execution": {
          "iopub.status.busy": "2021-10-14T13:02:23.939120Z",
          "iopub.execute_input": "2021-10-14T13:02:23.939490Z",
          "iopub.status.idle": "2021-10-14T13:02:23.968168Z",
          "shell.execute_reply.started": "2021-10-14T13:02:23.939453Z",
          "shell.execute_reply": "2021-10-14T13:02:23.967179Z"
        },
        "trusted": true,
        "colab": {
          "base_uri": "https://localhost:8080/",
          "height": 299
        },
        "id": "el8kYhLeJzuv",
        "outputId": "5acdadd6-d93f-4f2e-84d5-5749b258a662"
      },
      "source": [
        "close.head(3)"
      ],
      "execution_count": 5,
      "outputs": [
        {
          "output_type": "execute_result",
          "data": {
            "text/html": [
              "<div>\n",
              "<style scoped>\n",
              "    .dataframe tbody tr th:only-of-type {\n",
              "        vertical-align: middle;\n",
              "    }\n",
              "\n",
              "    .dataframe tbody tr th {\n",
              "        vertical-align: top;\n",
              "    }\n",
              "\n",
              "    .dataframe thead th {\n",
              "        text-align: right;\n",
              "    }\n",
              "</style>\n",
              "<table border=\"1\" class=\"dataframe\">\n",
              "  <thead>\n",
              "    <tr style=\"text-align: right;\">\n",
              "      <th></th>\n",
              "      <th>league</th>\n",
              "      <th>match_date</th>\n",
              "      <th>home_team</th>\n",
              "      <th>home_score</th>\n",
              "      <th>away_team</th>\n",
              "      <th>away_score</th>\n",
              "      <th>avg_odds_home_win</th>\n",
              "      <th>avg_odds_draw</th>\n",
              "      <th>avg_odds_away_win</th>\n",
              "      <th>max_odds_home_win</th>\n",
              "      <th>max_odds_draw</th>\n",
              "      <th>max_odds_away_win</th>\n",
              "      <th>top_bookie_home_win</th>\n",
              "      <th>top_bookie_draw</th>\n",
              "      <th>top_bookie_away_win</th>\n",
              "      <th>n_odds_home_win</th>\n",
              "      <th>n_odds_draw</th>\n",
              "      <th>n_odds_away_win</th>\n",
              "    </tr>\n",
              "    <tr>\n",
              "      <th>match_id</th>\n",
              "      <th></th>\n",
              "      <th></th>\n",
              "      <th></th>\n",
              "      <th></th>\n",
              "      <th></th>\n",
              "      <th></th>\n",
              "      <th></th>\n",
              "      <th></th>\n",
              "      <th></th>\n",
              "      <th></th>\n",
              "      <th></th>\n",
              "      <th></th>\n",
              "      <th></th>\n",
              "      <th></th>\n",
              "      <th></th>\n",
              "      <th></th>\n",
              "      <th></th>\n",
              "      <th></th>\n",
              "    </tr>\n",
              "  </thead>\n",
              "  <tbody>\n",
              "    <tr>\n",
              "      <th>170088</th>\n",
              "      <td>England: Premier League</td>\n",
              "      <td>2005-01-01</td>\n",
              "      <td>Liverpool</td>\n",
              "      <td>0</td>\n",
              "      <td>Chelsea</td>\n",
              "      <td>1</td>\n",
              "      <td>2.9944</td>\n",
              "      <td>3.1944</td>\n",
              "      <td>2.2256</td>\n",
              "      <td>3.20</td>\n",
              "      <td>3.25</td>\n",
              "      <td>2.29</td>\n",
              "      <td>Paddy Power</td>\n",
              "      <td>Sportingbet</td>\n",
              "      <td>Expekt</td>\n",
              "      <td>9</td>\n",
              "      <td>9</td>\n",
              "      <td>9</td>\n",
              "    </tr>\n",
              "    <tr>\n",
              "      <th>170089</th>\n",
              "      <td>England: Premier League</td>\n",
              "      <td>2005-01-01</td>\n",
              "      <td>Fulham</td>\n",
              "      <td>3</td>\n",
              "      <td>Crystal Palace</td>\n",
              "      <td>1</td>\n",
              "      <td>1.9456</td>\n",
              "      <td>3.2333</td>\n",
              "      <td>3.6722</td>\n",
              "      <td>2.04</td>\n",
              "      <td>3.30</td>\n",
              "      <td>4.15</td>\n",
              "      <td>Pinnacle Sports</td>\n",
              "      <td>bet-at-home</td>\n",
              "      <td>Expekt</td>\n",
              "      <td>9</td>\n",
              "      <td>9</td>\n",
              "      <td>9</td>\n",
              "    </tr>\n",
              "    <tr>\n",
              "      <th>170090</th>\n",
              "      <td>England: Premier League</td>\n",
              "      <td>2005-01-01</td>\n",
              "      <td>Aston Villa</td>\n",
              "      <td>1</td>\n",
              "      <td>Blackburn</td>\n",
              "      <td>0</td>\n",
              "      <td>1.8522</td>\n",
              "      <td>3.2611</td>\n",
              "      <td>4.0144</td>\n",
              "      <td>2.00</td>\n",
              "      <td>3.40</td>\n",
              "      <td>4.50</td>\n",
              "      <td>Pinnacle Sports</td>\n",
              "      <td>Paddy Power</td>\n",
              "      <td>Sportingbet</td>\n",
              "      <td>9</td>\n",
              "      <td>9</td>\n",
              "      <td>9</td>\n",
              "    </tr>\n",
              "  </tbody>\n",
              "</table>\n",
              "</div>"
            ],
            "text/plain": [
              "                           league  match_date  ... n_odds_draw  n_odds_away_win\n",
              "match_id                                       ...                             \n",
              "170088    England: Premier League  2005-01-01  ...           9                9\n",
              "170089    England: Premier League  2005-01-01  ...           9                9\n",
              "170090    England: Premier League  2005-01-01  ...           9                9\n",
              "\n",
              "[3 rows x 18 columns]"
            ]
          },
          "metadata": {},
          "execution_count": 5
        }
      ]
    },
    {
      "cell_type": "markdown",
      "metadata": {
        "id": "YIUHRXQrgGQI"
      },
      "source": [
        "Here I am interested in seeing who is frequently offering the best odds."
      ]
    },
    {
      "cell_type": "code",
      "metadata": {
        "colab": {
          "base_uri": "https://localhost:8080/",
          "height": 455
        },
        "id": "xgd4oC6jfOAz",
        "outputId": "1e18d301-f250-4b4d-c85c-b3e4d3c4e1ba"
      },
      "source": [
        "top_bookie = (close.top_bookie_home_win.value_counts() + close.top_bookie_away_win.value_counts()\n",
        "                + close.top_bookie_draw.value_counts()).sort_values(ascending=False)\n",
        "sns.barplot(top_bookie.index, top_bookie.values, color='blue')\n",
        "plt.title('Bookies Ranked by Frequency of Having Top Odds')\n",
        "plt.xticks(rotation=90)\n",
        "plt.show()"
      ],
      "execution_count": 26,
      "outputs": [
        {
          "output_type": "display_data",
          "data": {
            "image/png": "[encoded data removed]",
            "text/plain": [
              "<Figure size 720x360 with 1 Axes>"
            ]
          },
          "metadata": {}
        }
      ]
    },
    {
      "cell_type": "markdown",
      "metadata": {
        "id": "WaYhf9M5Jzux"
      },
      "source": [
        "I'll convert odds of a home win, away win, or draw to probability for each of the matches.  The consensus probability is the mean of all odds for each outcome and for each match \n",
        "\n",
        "$P = 1 / mean(odds)$"
      ]
    },
    {
      "cell_type": "code",
      "metadata": {
        "execution": {
          "iopub.status.busy": "2021-10-14T13:02:40.125224Z",
          "iopub.execute_input": "2021-10-14T13:02:40.125518Z",
          "iopub.status.idle": "2021-10-14T13:02:40.145480Z",
          "shell.execute_reply.started": "2021-10-14T13:02:40.125490Z",
          "shell.execute_reply": "2021-10-14T13:02:40.144654Z"
        },
        "trusted": true,
        "id": "o8mzSM-KJzuy"
      },
      "source": [
        "#prob. rounded to nearest 1/80th\n",
        "bins = 80\n",
        "close['avg_prob_home_win'] = np.floor((1/close['avg_odds_home_win'])*bins)/bins\n",
        "close['avg_prob_away_win'] = np.floor((1/close['avg_odds_away_win'])*bins)/bins\n",
        "close['avg_prob_draw'] = np.floor((1/close['avg_odds_draw'])*bins)/bins"
      ],
      "execution_count": 7,
      "outputs": []
    },
    {
      "cell_type": "markdown",
      "metadata": {
        "id": "niZbWhqeJzu1"
      },
      "source": [
        "All odds are right-skewed. Home-wins are more likely than away-wins. Away-wins have more variance. Notice that odds represent what the bettor receives if she wins a 1 unit bet, which means the odds cannot be less than 1. Mean odds restated as ratios would be:\n",
        "* Home-win: 1.5:1\n",
        "* Away-win: 2:1\n",
        "* Draw: 2.7:1"
      ]
    },
    {
      "cell_type": "code",
      "metadata": {
        "execution": {
          "iopub.status.busy": "2021-10-14T13:02:43.946520Z",
          "iopub.execute_input": "2021-10-14T13:02:43.946813Z",
          "iopub.status.idle": "2021-10-14T13:02:47.594345Z",
          "shell.execute_reply.started": "2021-10-14T13:02:43.946785Z",
          "shell.execute_reply": "2021-10-14T13:02:47.593403Z"
        },
        "trusted": true,
        "colab": {
          "base_uri": "https://localhost:8080/",
          "height": 463
        },
        "id": "ZLsYlLEhJzu3",
        "outputId": "d1e5e55e-4c52-42e0-e9f7-8962fb825106"
      },
      "source": [
        "for odds in ['avg_odds_home_win', 'avg_odds_away_win', 'avg_odds_draw']:\n",
        "    plt.figure(figsize=(9,1))\n",
        "    sns.histplot(close[odds].clip(0,10)) #there are some really high odds\n",
        "    plt.ylabel('')\n",
        "    plt.xlim(1,10)\n",
        "    plt.show()\n",
        "    print(f'   mean: {round(close[odds].mean(),2)}')\n",
        "    print(f'   st. dev.: {round(close[odds].std(),2)}')"
      ],
      "execution_count": 8,
      "outputs": [
        {
          "output_type": "display_data",
          "data": {
            "image/png": "[encoded data removed]",
            "text/plain": [
              "<Figure size 648x72 with 1 Axes>"
            ]
          },
          "metadata": {}
        },
        {
          "output_type": "stream",
          "name": "stdout",
          "text": [
            "   mean: 2.52\n",
            "   st. dev.: 1.94\n"
          ]
        },
        {
          "output_type": "display_data",
          "data": {
            "image/png": "[encoded data removed]",
            "text/plain": [
              "<Figure size 648x72 with 1 Axes>"
            ]
          },
          "metadata": {}
        },
        {
          "output_type": "stream",
          "name": "stdout",
          "text": [
            "   mean: 3.97\n",
            "   st. dev.: 2.79\n"
          ]
        },
        {
          "output_type": "display_data",
          "data": {
            "image/png": "[encoded data removed]",
            "text/plain": [
              "<Figure size 648x72 with 1 Axes>"
            ]
          },
          "metadata": {}
        },
        {
          "output_type": "stream",
          "name": "stdout",
          "text": [
            "   mean: 3.67\n",
            "   st. dev.: 1.07\n"
          ]
        }
      ]
    },
    {
      "cell_type": "markdown",
      "metadata": {
        "id": "QWol4JjIJzu-"
      },
      "source": [
        "### 2.2 Evaluating the bookmakers' odds\n",
        "\n",
        "A strategy intended to beat the bookmakers at predicting the game outcome (value betting, the commonest form of algorithmic betting) requires a more accurate model than the ones bookmakers have developed.\n",
        "\n",
        "The mean accuracy in the prediction of the outcome is the proportion of games ending in home team victory, draw, or away team victory for each probability bin. Kaunitz, et al. figured out that the **consensus probability is a good estimate of the underlying probability of an outcome**. There's not much room for improvement if I want to build a value betting algorithm."
      ]
    },
    {
      "cell_type": "code",
      "metadata": {
        "execution": {
          "iopub.status.busy": "2021-10-14T13:24:39.141035Z",
          "iopub.execute_input": "2021-10-14T13:24:39.141906Z",
          "iopub.status.idle": "2021-10-14T13:24:39.885108Z",
          "shell.execute_reply.started": "2021-10-14T13:24:39.141848Z",
          "shell.execute_reply": "2021-10-14T13:24:39.884180Z"
        },
        "trusted": true,
        "id": "VUhpH6UKJzvC"
      },
      "source": [
        "#create dummy variables for home win, away win, or draw\n",
        "close['home_win'] = close.home_score > close.away_score\n",
        "close['away_win'] = close.home_score < close.away_score\n",
        "close['draw'] = close.home_score == close.away_score\n",
        "#and a categorical variable\n",
        "close['result'] = close.home_win + 2*close.away_win + 3*close.draw\n",
        "\n",
        "#calculate the accuracy for each predicted probability for each outcome\n",
        "home_win_acc = close.groupby('avg_prob_home_win').mean()['home_win']\n",
        "away_win_acc = close.groupby('avg_prob_away_win').mean()['away_win']\n",
        "draw_acc = close.groupby('avg_prob_draw').mean()['draw']\n",
        "\n",
        "#retain accuracy if there are a min. of observations\n",
        "min_obs = 100\n",
        "home_win_acc = home_win_acc[close.groupby('avg_prob_home_win').sum()['home_win']>min_obs]\n",
        "away_win_acc = away_win_acc[close.groupby('avg_prob_away_win').sum()['away_win']>min_obs]\n",
        "draw_acc = draw_acc[close.groupby('avg_prob_draw').sum()['draw']>min_obs]\n",
        "\n",
        "close = close.drop(columns=['avg_prob_home_win','avg_prob_away_win',\n",
        "                            'avg_prob_draw','home_win','away_win','draw'])"
      ],
      "execution_count": 9,
      "outputs": []
    },
    {
      "cell_type": "code",
      "metadata": {
        "execution": {
          "iopub.status.busy": "2021-10-14T13:24:41.476352Z",
          "iopub.execute_input": "2021-10-14T13:24:41.476671Z",
          "iopub.status.idle": "2021-10-14T13:24:41.705009Z",
          "shell.execute_reply.started": "2021-10-14T13:24:41.476637Z",
          "shell.execute_reply": "2021-10-14T13:24:41.704151Z"
        },
        "trusted": true,
        "colab": {
          "base_uri": "https://localhost:8080/",
          "height": 500
        },
        "id": "xUX2cpqoJzvF",
        "outputId": "fb8fff05-9a0d-4966-8b87-c943efb82db0"
      },
      "source": [
        "plt.figure(figsize=(7,7))\n",
        "plt.plot(home_win_acc)\n",
        "plt.plot(away_win_acc)\n",
        "plt.title(\"Consensus Probabilities are Very Accurate\")\n",
        "plt.xlabel(f\"estimated prob. (min. {min_obs} obs.)\")\n",
        "plt.ylabel(\"% of predictions correct\")\n",
        "plt.plot(draw_acc)\n",
        "plt.legend(['Home Win','Away Win','Draw'])\n",
        "plt.savefig(PATH + 'cons_prob.png')\n",
        "plt.show()"
      ],
      "execution_count": 136,
      "outputs": [
        {
          "output_type": "display_data",
          "data": {
            "image/png": "[encoded data removed]",
            "text/plain": [
              "<Figure size 504x504 with 1 Axes>"
            ]
          },
          "metadata": {}
        }
      ]
    },
    {
      "cell_type": "markdown",
      "metadata": {
        "id": "w2UbMq2oJzvG"
      },
      "source": [
        "#### Correlation and Linear Regression\n",
        "\n",
        "Linear regression shows a strong correlation between the consensus probability and the outcome of the game."
      ]
    },
    {
      "cell_type": "code",
      "metadata": {
        "execution": {
          "iopub.status.busy": "2021-10-14T13:24:56.301188Z",
          "iopub.execute_input": "2021-10-14T13:24:56.301493Z",
          "iopub.status.idle": "2021-10-14T13:24:56.308817Z",
          "shell.execute_reply.started": "2021-10-14T13:24:56.301459Z",
          "shell.execute_reply": "2021-10-14T13:24:56.307997Z"
        },
        "trusted": true,
        "colab": {
          "base_uri": "https://localhost:8080/"
        },
        "id": "kJpGyTxKJzvL",
        "outputId": "b543454d-246a-4b81-a54f-61cab3608b0f"
      },
      "source": [
        "X1, y1 = np.array(home_win_acc.index), home_win_acc.values\n",
        "X2, y2 = np.array(away_win_acc.index), away_win_acc.values\n",
        "X3, y3 = np.array(draw_acc.index), draw_acc.values\n",
        "\n",
        "#usage note: Pearson is most appropriate for measurements taken from an interval scale\n",
        "print(f'Home win correlation w/ consensus prob.: {scs.pearsonr(X1, y1)[0]}')\n",
        "print(f'Away win correlation w/ consensus prob.: {scs.pearsonr(X2, y2)[0]}')\n",
        "print(f'Draw correlation w/ consensus prob.: {scs.pearsonr(X3, y3)[0]}')\n",
        "\n",
        "lr_home = LinearRegression().fit(X1.reshape(-1,1), y1)\n",
        "print(f'\\nHome win R^2: {lr_home.score(X1.reshape(-1,1), y1)}')\n",
        "print(f'  Slope: {lr_home.coef_[0]}')\n",
        "print(f'  Intercept: {lr_home.intercept_}')\n",
        "\n",
        "lr_away = LinearRegression().fit(X2.reshape(-1,1), y2)\n",
        "print(f'\\nAway win R^2: {lr_away.score(X2.reshape(-1,1), y2)}')\n",
        "print(f'  Slope: {lr_away.coef_[0]}')\n",
        "print(f'  Intercept: {lr_away.intercept_}')\n",
        "\n",
        "lr_draw = LinearRegression().fit(X3.reshape(-1,1), y3)\n",
        "print(f'\\nDraw R^2: {lr_draw.score(X3.reshape(-1,1), y3)}')\n",
        "print(f'  Slope: {lr_draw.coef_[0]}')\n",
        "print(f'  Intercept: {lr_draw.intercept_}')"
      ],
      "execution_count": 11,
      "outputs": [
        {
          "output_type": "stream",
          "name": "stdout",
          "text": [
            "Home win correlation w/ consensus prob.: 0.9991602101754098\n",
            "Away win correlation w/ consensus prob.: 0.9989934449323413\n",
            "Draw correlation w/ consensus prob.: 0.9973540095619423\n",
            "\n",
            "Home win R^2: 0.9983211255977693\n",
            "  Slope: 1.0034599516781513\n",
            "  Intercept: -0.027983375901089125\n",
            "\n",
            "Away win R^2: 0.9979879030177871\n",
            "  Slope: 1.0143944298317413\n",
            "  Intercept: -0.0330748929189012\n",
            "\n",
            "Draw R^2: 0.9947150203892826\n",
            "  Slope: 1.1241387885615723\n",
            "  Intercept: -0.06254265835427109\n"
          ]
        }
      ]
    },
    {
      "cell_type": "markdown",
      "metadata": {
        "id": "c-N7FHWgdUXH"
      },
      "source": [
        "Deducing the high accuracy of the bookmakers' aggregated odds is significant because it tells me the difficulties I would face building a value betting algorithm, which is the typical approach to algorithmic sports betting."
      ]
    },
    {
      "cell_type": "markdown",
      "metadata": {
        "id": "OqqXwXD_JzvO"
      },
      "source": [
        "<a name='model'></a>\n",
        "## 3. Building a Winning Strategy\n",
        "\n",
        "---\n",
        "\n",
        "### 3.1 Mispriced odds model\n",
        "\n",
        "I'll implement Kaunitz, Zhong, and Kreiner's strategy. This is explained in depth in their paper.\n",
        "\n",
        "The optimal strategy maximizes **expected payoff**, which looks like this.\n",
        "\n",
        "$E(X) = (p-α)*Ω - 1$\n",
        "\n",
        "  where $X$ is a random variable representing the payoff of the bet,\n",
        "\n",
        "  where $Ω$ are the odds paid by the bookmaker\n",
        "\n",
        "  where $p$ is the underlying probability of the outcome\n",
        "\n",
        "  and where $α$ is an adjustment term to account for the bookies' commission. The regression intercepts are the estimated $α$ while the final value is found through trial-and-error. Why intercepts? Because we would expect the regression line to pass through the origin (0, 0) if there wasn't a commission.\n",
        "\n",
        "I should bet when $E(X) > 0$.\n",
        "\n",
        "Therefore, rearranging for odds, the betting condition is,\n",
        "\n",
        "$Ω > 1 / (p - α) $\n",
        "\n",
        "Notice that increasing $α$ increases the expected value while decreasing the number of available bets (because the margins are higher.) To keep things simple, bets will all be of the same size (50 dollars) for this simulation.\n"
      ]
    },
    {
      "cell_type": "code",
      "metadata": {
        "execution": {
          "iopub.status.busy": "2021-10-14T13:25:12.801932Z",
          "iopub.execute_input": "2021-10-14T13:25:12.803022Z",
          "iopub.status.idle": "2021-10-14T13:25:12.807263Z",
          "shell.execute_reply.started": "2021-10-14T13:25:12.802971Z",
          "shell.execute_reply": "2021-10-14T13:25:12.806636Z"
        },
        "trusted": true,
        "id": "RzvYX8YnJzvV"
      },
      "source": [
        "alpha = .05 #adjustment term\n",
        "min_odds = 4 #minimum bookmakers offering odds\n",
        "bet = 50 #bet size for every bet"
      ],
      "execution_count": 107,
      "outputs": []
    },
    {
      "cell_type": "markdown",
      "metadata": {
        "id": "OSZqKHLGJzvX"
      },
      "source": [
        "The max odds represent the best available odds on that bet among all the bookmakers so that'll be used to calculate payoff while average odds are used for exact probabilities. Ensure at least 4 bookmakers have given odds for the bet so the market isn't too thin.\n",
        "\n",
        "Aside: Don't accidently use binned probability data here, which would also not need the numerator. I made this mistake and it cost me a day of frustration."
      ]
    },
    {
      "cell_type": "code",
      "metadata": {
        "colab": {
          "base_uri": "https://localhost:8080/"
        },
        "id": "6Pucheop4C-H",
        "outputId": "b53bbd83-2e8b-46df-c11d-d0727bae770f"
      },
      "source": [
        "def exp_payoff(res):\n",
        "  return ((1 / close[f'avg_odds_{res}'] - alpha)\\\n",
        "          * close[f'max_odds_{res}'] - 1)\\\n",
        "          * (close[f'n_odds_{res}'] > min_odds)\n",
        "\n",
        "exp_payouts = pd.DataFrame({'exp_payoff0': exp_payoff('home_win'),\n",
        "                            'exp_payoff1': exp_payoff('away_win'),\n",
        "                            'exp_payoff2': exp_payoff('draw')})\n",
        "\n",
        "#highest payout per match\n",
        "max_exp_payout = np.max(exp_payouts, axis=1)\n",
        "#one-indexed column of highest payout\n",
        "max_column = 1+np.argmax(np.array(exp_payouts), axis=1)\n",
        "\n",
        "bets = []\n",
        "for ix, i in enumerate(max_column):\n",
        "  #place bet if max exp. value is positive\n",
        "  if max_exp_payout.values[ix] > 0:\n",
        "    bets.append(i)\n",
        "  else:\n",
        "    bets.append(0)\n",
        "\n",
        "close['bet_result'] = bets\n",
        "\n",
        "#validation check\n",
        "sum(close.bet_result>0) == sum(max_exp_payout>0)"
      ],
      "execution_count": 13,
      "outputs": [
        {
          "output_type": "execute_result",
          "data": {
            "text/plain": [
              "True"
            ]
          },
          "metadata": {},
          "execution_count": 13
        }
      ]
    },
    {
      "cell_type": "code",
      "metadata": {
        "id": "PQt8Med-gQ83"
      },
      "source": [
        "#create a list of relevant max odds based on game result\n",
        "maximums = close.iloc[:,[9,11,10]] #order rearranged to match result column\n",
        "max_odds = []\n",
        "for i, j in zip(maximums.values, close.result):\n",
        "  max_odds.append(i[j-1])\n",
        "\n",
        "close['max_odds'] = max_odds"
      ],
      "execution_count": 14,
      "outputs": []
    },
    {
      "cell_type": "code",
      "metadata": {
        "colab": {
          "base_uri": "https://localhost:8080/",
          "height": 238
        },
        "id": "sVCw7uDqbtpp",
        "outputId": "45872a11-e2a3-47e1-dc60-fb4e49decb6d"
      },
      "source": [
        "bet_df = close.iloc[:,18:21][close.bet_result > 0]\n",
        "n_bets = len(bet_df)\n",
        "bet_df['win'] = bet_df.bet_result == bet_df.result\n",
        "bet_df['payoff'] = bet_df.win * bet_df.max_odds - 1\n",
        "bet_df['gain'] = bet_df.payoff * bet\n",
        "bet_df['cumulative'] = bet + bet_df.gain.cumsum()\n",
        "             \n",
        "bet_df.head()"
      ],
      "execution_count": 15,
      "outputs": [
        {
          "output_type": "execute_result",
          "data": {
            "text/html": [
              "<div>\n",
              "<style scoped>\n",
              "    .dataframe tbody tr th:only-of-type {\n",
              "        vertical-align: middle;\n",
              "    }\n",
              "\n",
              "    .dataframe tbody tr th {\n",
              "        vertical-align: top;\n",
              "    }\n",
              "\n",
              "    .dataframe thead th {\n",
              "        text-align: right;\n",
              "    }\n",
              "</style>\n",
              "<table border=\"1\" class=\"dataframe\">\n",
              "  <thead>\n",
              "    <tr style=\"text-align: right;\">\n",
              "      <th></th>\n",
              "      <th>result</th>\n",
              "      <th>bet_result</th>\n",
              "      <th>max_odds</th>\n",
              "      <th>win</th>\n",
              "      <th>payoff</th>\n",
              "      <th>gain</th>\n",
              "      <th>cumulative</th>\n",
              "    </tr>\n",
              "    <tr>\n",
              "      <th>match_id</th>\n",
              "      <th></th>\n",
              "      <th></th>\n",
              "      <th></th>\n",
              "      <th></th>\n",
              "      <th></th>\n",
              "      <th></th>\n",
              "      <th></th>\n",
              "    </tr>\n",
              "  </thead>\n",
              "  <tbody>\n",
              "    <tr>\n",
              "      <th>170112</th>\n",
              "      <td>1</td>\n",
              "      <td>1</td>\n",
              "      <td>1.74</td>\n",
              "      <td>True</td>\n",
              "      <td>0.74</td>\n",
              "      <td>37.0</td>\n",
              "      <td>87.0</td>\n",
              "    </tr>\n",
              "    <tr>\n",
              "      <th>170235</th>\n",
              "      <td>2</td>\n",
              "      <td>2</td>\n",
              "      <td>2.70</td>\n",
              "      <td>True</td>\n",
              "      <td>1.70</td>\n",
              "      <td>85.0</td>\n",
              "      <td>172.0</td>\n",
              "    </tr>\n",
              "    <tr>\n",
              "      <th>170236</th>\n",
              "      <td>2</td>\n",
              "      <td>1</td>\n",
              "      <td>3.50</td>\n",
              "      <td>False</td>\n",
              "      <td>-1.00</td>\n",
              "      <td>-50.0</td>\n",
              "      <td>122.0</td>\n",
              "    </tr>\n",
              "    <tr>\n",
              "      <th>170366</th>\n",
              "      <td>1</td>\n",
              "      <td>1</td>\n",
              "      <td>4.33</td>\n",
              "      <td>True</td>\n",
              "      <td>3.33</td>\n",
              "      <td>166.5</td>\n",
              "      <td>288.5</td>\n",
              "    </tr>\n",
              "    <tr>\n",
              "      <th>170382</th>\n",
              "      <td>3</td>\n",
              "      <td>1</td>\n",
              "      <td>3.00</td>\n",
              "      <td>False</td>\n",
              "      <td>-1.00</td>\n",
              "      <td>-50.0</td>\n",
              "      <td>238.5</td>\n",
              "    </tr>\n",
              "  </tbody>\n",
              "</table>\n",
              "</div>"
            ],
            "text/plain": [
              "          result  bet_result  max_odds    win  payoff   gain  cumulative\n",
              "match_id                                                                \n",
              "170112         1           1      1.74   True    0.74   37.0        87.0\n",
              "170235         2           2      2.70   True    1.70   85.0       172.0\n",
              "170236         2           1      3.50  False   -1.00  -50.0       122.0\n",
              "170366         1           1      4.33   True    3.33  166.5       288.5\n",
              "170382         3           1      3.00  False   -1.00  -50.0       238.5"
            ]
          },
          "metadata": {},
          "execution_count": 15
        }
      ]
    },
    {
      "cell_type": "code",
      "metadata": {
        "colab": {
          "base_uri": "https://localhost:8080/"
        },
        "id": "8V6qJI2JaTKe",
        "outputId": "aea46076-6857-4aef-a387-9ebfb613e1cb"
      },
      "source": [
        "mdl_accuracy = round(sum(bet_df.win)/n_bets,3)\n",
        "print(f'Matches bet on: {n_bets} ({round(n_bets/len(close)*100,1)} percent)')\n",
        "print(f'Accuracy of bets: {mdl_accuracy}')\n"
      ],
      "execution_count": 43,
      "outputs": [
        {
          "output_type": "stream",
          "name": "stdout",
          "text": [
            "Matches bet on: 55804 (11.6 percent)\n",
            "Accuracy of bets: 0.443\n"
          ]
        }
      ]
    },
    {
      "cell_type": "code",
      "metadata": {
        "colab": {
          "base_uri": "https://localhost:8080/",
          "height": 36
        },
        "id": "eQXH0vrBlsJ1",
        "outputId": "63d6af0e-e9f4-44bc-c12e-1f0d443497c9"
      },
      "source": [
        "mdl_profit = bet_df.cumulative.iloc[-1]\n",
        "f'Profit of {mdl_profit} dollars generated on historical data.'"
      ],
      "execution_count": 45,
      "outputs": [
        {
          "output_type": "execute_result",
          "data": {
            "application/vnd.google.colaboratory.intrinsic+json": {
              "type": "string"
            },
            "text/plain": [
              "'Profit of 97481.0 dollars generated on historical data.'"
            ]
          },
          "metadata": {},
          "execution_count": 45
        }
      ]
    },
    {
      "cell_type": "markdown",
      "metadata": {
        "id": "ItD_SS6tJzvn"
      },
      "source": [
        "### 3.2 Random bet strategy (baseline)\n",
        "\n",
        "I randomly choose an equivalent number of games to bet on from the whole dataset and bet home win, away win, or draw based on prior probability of those outcomes."
      ]
    },
    {
      "cell_type": "code",
      "metadata": {
        "execution": {
          "iopub.status.busy": "2021-10-14T13:29:24.530761Z",
          "iopub.execute_input": "2021-10-14T13:29:24.531092Z",
          "iopub.status.idle": "2021-10-14T13:29:24.547078Z",
          "shell.execute_reply.started": "2021-10-14T13:29:24.531059Z",
          "shell.execute_reply": "2021-10-14T13:29:24.546020Z"
        },
        "trusted": true,
        "colab": {
          "base_uri": "https://localhost:8080/"
        },
        "id": "CVAqGfL-Jzvo",
        "outputId": "32ed18c9-3571-43e5-e0b3-57602c8b2c2c"
      },
      "source": [
        "#priors\n",
        "prior_home = sum(bet_df.result==1)/n_bets #.44\n",
        "prior_away = sum(bet_df.result==2)/n_bets #.31\n",
        "prior_draw = sum(bet_df.result==3)/n_bets #.25\n",
        "\n",
        "#generate probabilities then assign a result\n",
        "guess = np.random.rand(len(bet_df))\n",
        "guess[(1-prior_draw) < guess] = 3 #draw\n",
        "guess[guess < prior_home] = 1 #home win\n",
        "guess[(0 < guess) & (guess < 1)] = 2 #away win\n",
        "\n",
        "prior_home, prior_away, prior_draw"
      ],
      "execution_count": 33,
      "outputs": [
        {
          "output_type": "execute_result",
          "data": {
            "text/plain": [
              "(0.4378001576947889, 0.30884882804100067, 0.2533510142642105)"
            ]
          },
          "metadata": {},
          "execution_count": 33
        }
      ]
    },
    {
      "cell_type": "markdown",
      "metadata": {
        "id": "sq_UQdTtaJ5v"
      },
      "source": [
        "Bootstrapped samples have almost no variance, suggesting performance over the baseline cannot be due to random chance."
      ]
    },
    {
      "cell_type": "code",
      "metadata": {
        "execution": {
          "iopub.status.busy": "2021-10-14T13:56:22.280517Z",
          "iopub.execute_input": "2021-10-14T13:56:22.280908Z",
          "iopub.status.idle": "2021-10-14T13:56:23.531790Z",
          "shell.execute_reply.started": "2021-10-14T13:56:22.280871Z",
          "shell.execute_reply": "2021-10-14T13:56:23.530736Z"
        },
        "trusted": true,
        "colab": {
          "base_uri": "https://localhost:8080/"
        },
        "id": "9Nd32AzzJzvq",
        "outputId": "cd7281de-0605-47a7-ab08-7503b681bd7d"
      },
      "source": [
        "#bootstrapping simulations\n",
        "trials = 10\n",
        "accuracy = []\n",
        "\n",
        "for _ in range(trials):\n",
        "  idx = np.random.choice(len(close), len(bet_df))\n",
        "  samp = close.iloc[idx].sort_index()\n",
        "  samp['win'] = guess == samp.result\n",
        "  samp['payoff'] = samp.win * samp.max_odds - 1\n",
        "  samp['gain'] = samp.payoff * bet\n",
        "  samp['cumulative'] = bet + samp.gain.cumsum()\n",
        "  accuracy.append(sum(samp.win) / len(guess))\n",
        "\n",
        "accuracy = np.array(accuracy)\n",
        "bl_accuracy = round(accuracy.mean(),3)\n",
        "print(f'Mean betting accuracy {bl_accuracy} and variance {round(accuracy.var(),4)}')\n",
        "accuracy"
      ],
      "execution_count": 42,
      "outputs": [
        {
          "output_type": "stream",
          "name": "stdout",
          "text": [
            "Mean betting accuracy 0.353 and variance 0.0\n"
          ]
        },
        {
          "output_type": "execute_result",
          "data": {
            "text/plain": [
              "array([0.354204  , 0.35336177, 0.35545839, 0.35337969, 0.35079923,\n",
              "       0.35515375, 0.35180274, 0.35210738, 0.35155186, 0.35441904])"
            ]
          },
          "metadata": {},
          "execution_count": 42
        }
      ]
    },
    {
      "cell_type": "code",
      "metadata": {
        "execution": {
          "iopub.status.busy": "2021-10-14T13:56:32.224683Z",
          "iopub.execute_input": "2021-10-14T13:56:32.224986Z",
          "iopub.status.idle": "2021-10-14T13:56:32.238259Z",
          "shell.execute_reply.started": "2021-10-14T13:56:32.224953Z",
          "shell.execute_reply": "2021-10-14T13:56:32.237225Z"
        },
        "trusted": true,
        "colab": {
          "base_uri": "https://localhost:8080/",
          "height": 36
        },
        "id": "l7KmXTbnJzvs",
        "outputId": "6c179815-512e-4d86-e882-77501f23c4b1"
      },
      "source": [
        "bl_profit = samp.cumulative.iloc[-1]\n",
        "f'Loss of {-bl_profit} dollars on historical data.'"
      ],
      "execution_count": 48,
      "outputs": [
        {
          "output_type": "execute_result",
          "data": {
            "application/vnd.google.colaboratory.intrinsic+json": {
              "type": "string"
            },
            "text/plain": [
              "'Loss of 129265.5 dollars on historical data.'"
            ]
          },
          "metadata": {},
          "execution_count": 48
        }
      ]
    },
    {
      "cell_type": "code",
      "metadata": {
        "id": "xwnkJ9rpJzvv"
      },
      "source": [
        "results = pd.DataFrame({'betting accuracy': [mdl_accuracy, bl_accuracy,\n",
        "                                             mdl_accuracy-bl_accuracy],\n",
        "                        'bets placed': [n_bets, n_bets, 0],\n",
        "                        'bet size': [bet, bet, 0],\n",
        "                        'mean return on bet': [mdl_profit/n_bets, bl_profit/n_bets,\n",
        "                                               mdl_profit/n_bets-bl_profit/n_bets],\n",
        "                        'change in dollars': [mdl_profit, bl_profit,\n",
        "                                              mdl_profit-bl_profit]},\n",
        "                       index=['mispriced odds model',\n",
        "                              'random model using priors (baseline)', 'difference'])"
      ],
      "execution_count": 73,
      "outputs": []
    },
    {
      "cell_type": "markdown",
      "metadata": {
        "id": "5ksjfKLgJzvu"
      },
      "source": [
        "<a name='results'></a>\n",
        "## 4. Results\n",
        "\n",
        "---\n",
        "\n",
        "### 4.1 Metrics\n",
        "\n",
        "In the final comparison, the strategy which identifies mispriced odds *significantly* outperforms a random betting strategy."
      ]
    },
    {
      "cell_type": "code",
      "metadata": {
        "colab": {
          "base_uri": "https://localhost:8080/",
          "height": 143
        },
        "id": "EipFzpSbdpaz",
        "outputId": "c777dc51-b228-4de8-acc9-07c404c49d9a"
      },
      "source": [
        "results"
      ],
      "execution_count": 74,
      "outputs": [
        {
          "output_type": "execute_result",
          "data": {
            "text/html": [
              "<div>\n",
              "<style scoped>\n",
              "    .dataframe tbody tr th:only-of-type {\n",
              "        vertical-align: middle;\n",
              "    }\n",
              "\n",
              "    .dataframe tbody tr th {\n",
              "        vertical-align: top;\n",
              "    }\n",
              "\n",
              "    .dataframe thead th {\n",
              "        text-align: right;\n",
              "    }\n",
              "</style>\n",
              "<table border=\"1\" class=\"dataframe\">\n",
              "  <thead>\n",
              "    <tr style=\"text-align: right;\">\n",
              "      <th></th>\n",
              "      <th>betting accuracy</th>\n",
              "      <th>bets placed</th>\n",
              "      <th>bet size</th>\n",
              "      <th>mean return on bet</th>\n",
              "      <th>change in dollars</th>\n",
              "    </tr>\n",
              "  </thead>\n",
              "  <tbody>\n",
              "    <tr>\n",
              "      <th>mispriced odds model</th>\n",
              "      <td>0.443</td>\n",
              "      <td>55804</td>\n",
              "      <td>50</td>\n",
              "      <td>1.746846</td>\n",
              "      <td>97481.0</td>\n",
              "    </tr>\n",
              "    <tr>\n",
              "      <th>random model using priors (baseline)</th>\n",
              "      <td>0.353</td>\n",
              "      <td>55804</td>\n",
              "      <td>50</td>\n",
              "      <td>-2.316420</td>\n",
              "      <td>-129265.5</td>\n",
              "    </tr>\n",
              "    <tr>\n",
              "      <th>difference</th>\n",
              "      <td>0.090</td>\n",
              "      <td>0</td>\n",
              "      <td>0</td>\n",
              "      <td>4.063266</td>\n",
              "      <td>226746.5</td>\n",
              "    </tr>\n",
              "  </tbody>\n",
              "</table>\n",
              "</div>"
            ],
            "text/plain": [
              "                                      betting accuracy  ...  change in dollars\n",
              "mispriced odds model                             0.443  ...            97481.0\n",
              "random model using priors (baseline)             0.353  ...          -129265.5\n",
              "difference                                       0.090  ...           226746.5\n",
              "\n",
              "[3 rows x 5 columns]"
            ]
          },
          "metadata": {},
          "execution_count": 74
        }
      ]
    },
    {
      "cell_type": "markdown",
      "metadata": {
        "id": "hf0jT_i6sbeB"
      },
      "source": [
        "### 4.2 Charts\n",
        "\n",
        "The difference between using the odds model and random betting is the difference between wealth and insolvency."
      ]
    },
    {
      "cell_type": "code",
      "metadata": {
        "execution": {
          "iopub.status.busy": "2021-10-14T13:56:40.103243Z",
          "iopub.execute_input": "2021-10-14T13:56:40.103548Z",
          "iopub.status.idle": "2021-10-14T13:56:40.344038Z",
          "shell.execute_reply.started": "2021-10-14T13:56:40.103514Z",
          "shell.execute_reply": "2021-10-14T13:56:40.343350Z"
        },
        "trusted": true,
        "colab": {
          "base_uri": "https://localhost:8080/",
          "height": 366
        },
        "id": "VsT9aAnFJzvs",
        "outputId": "016ade69-e2ea-4333-e470-237304e302c7"
      },
      "source": [
        "plt.plot(bet_df.cumulative)\n",
        "plt.plot(samp.cumulative)\n",
        "plt.hlines(0, 2e5, 9e5, color='gray', linestyles='dashed')\n",
        "plt.ylabel('cumulative gain/loss (USD)')\n",
        "plt.xlabel(f'{n_bets} chronological bets placed 2005-2015')\n",
        "plt.title('A Tale of Two Bettors')\n",
        "plt.legend(['mispriced odds model','random betting model', 'breakeven'])\n",
        "plt.xticks([])\n",
        "plt.savefig(PATH + 'two_bettors.png')\n",
        "plt.show()"
      ],
      "execution_count": 138,
      "outputs": [
        {
          "output_type": "display_data",
          "data": {
            "image/png": "[encoded data removed]",
            "text/plain": [
              "<Figure size 720x360 with 1 Axes>"
            ]
          },
          "metadata": {}
        }
      ]
    },
    {
      "cell_type": "code",
      "metadata": {
        "colab": {
          "base_uri": "https://localhost:8080/",
          "height": 383
        },
        "id": "srm53ZDxf9na",
        "outputId": "cb922655-8465-462e-a7b1-5f389eed46d1"
      },
      "source": [
        "#there are some huge gains I should look at\n",
        "plt.hist(bet_df.gain.clip(-bet,400), alpha=.7, bins=44, density=True)\n",
        "plt.hist(samp.gain.clip(-bet,400), alpha=.6, bins=44, density=True)\n",
        "plt.title('Comparing the distributions of returns')\n",
        "plt.xlabel('bet return')\n",
        "plt.ylim(0,.01) #huge spike at -50\n",
        "plt.legend(['mispriced odds model','random betting model'])\n",
        "plt.show()\n"
      ],
      "execution_count": 133,
      "outputs": [
        {
          "output_type": "display_data",
          "data": {
            "image/png": "[encoded data removed]",
            "text/plain": [
              "<Figure size 720x360 with 1 Axes>"
            ]
          },
          "metadata": {}
        }
      ]
    },
    {
      "cell_type": "code",
      "metadata": {
        "colab": {
          "base_uri": "https://localhost:8080/"
        },
        "id": "xpPpn-oFfiqU",
        "outputId": "eadcec75-222d-4787-fd62-6ef0792ea020"
      },
      "source": [
        "#Welch's t-test on returns on bets\n",
        "res = scs.ttest_ind(bet_df.gain, samp.gain, equal_var=False)\n",
        "print(f'p-value: {res[1]} (probability of attaining these results randomly)')"
      ],
      "execution_count": 106,
      "outputs": [
        {
          "output_type": "stream",
          "name": "stdout",
          "text": [
            "p-value: 1.7324016163592228e-18 (probability of attaining these results randomly)\n"
          ]
        }
      ]
    },
    {
      "cell_type": "markdown",
      "metadata": {
        "id": "JwVXkzbAeTgm"
      },
      "source": [
        "#### Next Steps\n",
        "\n",
        "* Implement a 'continuous odds' strategy using real-time data.\n",
        "* Achieve success with paper (live simulated) trading and then finally real trading\n",
        "* Create a live dashboard to alert bettor of picks."
      ]
    },
    {
      "cell_type": "code",
      "metadata": {
        "id": "GeM_2276tOyl"
      },
      "source": [
        ""
      ],
      "execution_count": null,
      "outputs": []
    }
  ]
}